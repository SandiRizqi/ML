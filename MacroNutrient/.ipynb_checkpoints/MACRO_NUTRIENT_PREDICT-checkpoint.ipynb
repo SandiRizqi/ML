{
 "cells": [
  {
   "cell_type": "code",
   "execution_count": 6,
   "id": "0e1422b9-d2f0-45cf-b45e-651529659d1b",
   "metadata": {},
   "outputs": [],
   "source": [
    "import numpy as np\n",
    "import torch\n",
    "import torch.nn as nn\n",
    "import rasterio"
   ]
  },
  {
   "cell_type": "code",
   "execution_count": 7,
   "id": "2b4da7ea-16b3-4d14-b1e1-8cc8841cece1",
   "metadata": {},
   "outputs": [
    {
     "name": "stdout",
     "output_type": "stream",
     "text": [
      "PyTorch version: 2.7.0.dev20250112\n",
      "MPS (Metal Performance Shaders) available: True\n",
      "Built with MPS: True\n"
     ]
    }
   ],
   "source": [
    "print(f\"PyTorch version: {torch.__version__}\")\n",
    "print(f\"MPS (Metal Performance Shaders) available: {torch.backends.mps.is_available()}\")\n",
    "print(f\"Built with MPS: {torch.backends.mps.is_built()}\")"
   ]
  },
  {
   "cell_type": "code",
   "execution_count": 8,
   "id": "afd6354a-4065-436a-8a5d-af65c2d07ff2",
   "metadata": {},
   "outputs": [],
   "source": [
    "# Define the Neural Network\n",
    "class NeuralNet(nn.Module):\n",
    "    def __init__(self, input_size, hidden_size, output_size):\n",
    "        super(NeuralNet, self).__init__()\n",
    "        self.fc1 = nn.Linear(input_size, hidden_size)\n",
    "        self.relu = nn.ReLU()\n",
    "        self.fc2 = nn.Linear(hidden_size, hidden_size)\n",
    "        self.fc3 = nn.Linear(hidden_size, output_size)\n",
    "\n",
    "    def forward(self, x):\n",
    "        x = self.fc1(x)\n",
    "        x = self.relu(x)\n",
    "        x = self.fc2(x)\n",
    "        x = self.relu(x)\n",
    "        x = self.fc3(x)\n",
    "        return x"
   ]
  },
  {
   "cell_type": "code",
   "execution_count": 9,
   "id": "4b25cd59-5c1c-468e-aa97-48107ac4bbd7",
   "metadata": {},
   "outputs": [],
   "source": [
    "# Model, Loss, and Optimizer\n",
    "input_size = 5  # Number of input features\n",
    "hidden_size = 64  # Hidden layer size\n",
    "output_size = 3  # Number of targets (N, P, K)\n",
    "\n",
    "model = NeuralNet(input_size, hidden_size, output_size)"
   ]
  },
  {
   "cell_type": "code",
   "execution_count": 13,
   "id": "f77663b6-5e8d-4398-81fe-c9ac66905656",
   "metadata": {},
   "outputs": [],
   "source": [
    "state_dict = torch.load('./models/best_model_macro_npk.pth')"
   ]
  },
  {
   "cell_type": "code",
   "execution_count": 14,
   "id": "14b10378-1e65-4a82-8447-6d33d6e6a0aa",
   "metadata": {},
   "outputs": [
    {
     "data": {
      "text/plain": [
       "<All keys matched successfully>"
      ]
     },
     "execution_count": 14,
     "metadata": {},
     "output_type": "execute_result"
    }
   ],
   "source": [
    "model.load_state_dict(state_dict)"
   ]
  },
  {
   "cell_type": "code",
   "execution_count": 15,
   "id": "770bb530-b6e0-4c85-bd0b-56dd477d1826",
   "metadata": {},
   "outputs": [],
   "source": [
    "def predict_raster(raster, model):\n",
    "    with rasterio.open(raster) as src:\n",
    "        # Read all raster bands\n",
    "        bands = [src.read(i + 1) for i in range(src.count)]  # Read all bands into a list\n",
    "        bands = np.stack(bands, axis=0)  # Shape: (num_bands, height, width)\n",
    "\n",
    "        # Min-Max Normalization (to range 0-1)\n",
    "        min_val = bands.min(axis=(1, 2), keepdims=True)  # Find min value across all pixels for each band\n",
    "        max_val = bands.max(axis=(1, 2), keepdims=True)  # Find max value across all pixels for each band\n",
    "\n",
    "        # Normalize to 0-1 range\n",
    "        normalized_bands = (bands - min_val) / (max_val - min_val)\n",
    "\n",
    "        #calculate NDVI\n",
    "        red_band = bands[2].astype(float)\n",
    "        nir_band = bands[3].astype(float)\n",
    "        ndvi = (nir_band - red_band) / (nir_band + red_band + 1e-8)\n",
    "        ndvi_band = np.expand_dims(ndvi, axis=0)\n",
    "\n",
    "          #concat bands\n",
    "        dataset = np.concatenate((normalized_bands, ndvi_band), axis=0)\n",
    "        pixels = np.transpose(dataset, (1, 2, 0)).reshape(-1, dataset.shape[0])\n",
    "\n",
    "        input = torch.from_numpy(pixels).float().to('cpu')\n",
    "        print(input.shape)\n",
    "          #Predict\n",
    "        predictions = model(input)\n",
    "        print(predictions.shape)\n",
    "        predictions_numpy = predictions.detach().cpu().numpy()\n",
    "        result = predictions_numpy.reshape([bands.shape[1], bands.shape[2], 3])\n",
    "\n",
    "        # Save each band as a separate GeoTIFF file\n",
    "        for i in range(3):\n",
    "            single_band = result[:, :, i]\n",
    "            output_path = f'./predicted/band_{i}.tif'\n",
    "            with rasterio.open(\n",
    "                    output_path,\n",
    "                    'w',\n",
    "                    driver='GTiff',\n",
    "                    height=single_band.shape[0],\n",
    "                    width=single_band.shape[1],\n",
    "                    count=1,\n",
    "                    dtype=single_band.dtype,\n",
    "                    crs=src.crs,\n",
    "                    transform=src.transform,\n",
    "                ) as dst:\n",
    "                    dst.write(single_band, 1)\n",
    "\n",
    "        print(f\"Band {i + 1} saved to {output_path}\")\n",
    "        return result"
   ]
  },
  {
   "cell_type": "code",
   "execution_count": 17,
   "id": "b8afc95e-b7a4-4861-bf25-e775a4b775c8",
   "metadata": {},
   "outputs": [
    {
     "name": "stdout",
     "output_type": "stream",
     "text": [
      "torch.Size([40556174, 5])\n",
      "torch.Size([40556174, 3])\n",
      "Band 3 saved to ./predicted/band_2.tif\n"
     ]
    }
   ],
   "source": [
    "result = predict_raster(\"../Datasets/CITRA_MS_AAPA/CITRA_MS_AAPA.tif\", model)"
   ]
  },
  {
   "cell_type": "code",
   "execution_count": null,
   "id": "0281a96d-2b33-4ff1-9964-4badd4d10246",
   "metadata": {},
   "outputs": [],
   "source": []
  }
 ],
 "metadata": {
  "kernelspec": {
   "display_name": "Python 3 (ipykernel)",
   "language": "python",
   "name": "python3"
  },
  "language_info": {
   "codemirror_mode": {
    "name": "ipython",
    "version": 3
   },
   "file_extension": ".py",
   "mimetype": "text/x-python",
   "name": "python",
   "nbconvert_exporter": "python",
   "pygments_lexer": "ipython3",
   "version": "3.9.21"
  }
 },
 "nbformat": 4,
 "nbformat_minor": 5
}
