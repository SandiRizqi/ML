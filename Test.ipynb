{
 "cells": [
  {
   "cell_type": "code",
   "execution_count": 35,
   "id": "a4826a76-b1fa-489a-bf7a-cdb392ca0756",
   "metadata": {},
   "outputs": [],
   "source": [
    "class person():\n",
    "    def __init__(self, power, attact):\n",
    "        self.power = power\n",
    "        self.attact = attact\n",
    "    def attacted(self, person):\n",
    "        self.power = self.power - person.attact"
   ]
  },
  {
   "cell_type": "code",
   "execution_count": 36,
   "id": "93785eb9-a09d-4663-a4b0-bf25cd6dd433",
   "metadata": {},
   "outputs": [],
   "source": [
    "person1 = person(power=100, attact=5)\n",
    "person2 = person(power=50, attact=2)"
   ]
  },
  {
   "cell_type": "code",
   "execution_count": 37,
   "id": "6b9506da-b9a4-4ed4-bcea-7aca04f69a70",
   "metadata": {},
   "outputs": [],
   "source": [
    "person1.attacted(person2)"
   ]
  },
  {
   "cell_type": "code",
   "execution_count": null,
   "id": "cede935b-0802-4d3f-be9f-cdb5a88a5bc3",
   "metadata": {},
   "outputs": [],
   "source": [
    "Name      Age      Salary\n",
    "Alice     25       50000\n",
    "Bob       30       55000\n",
    "Charlie   35       60000\n"
   ]
  },
  {
   "cell_type": "code",
   "execution_count": 40,
   "id": "b5648f7c-6acb-4f9f-96e3-9cebe4133e2c",
   "metadata": {},
   "outputs": [],
   "source": [
    "data = [{'name': 'Alice', 'age': 25, 'salary': 50000}, {'name': 'Bob', 'age': 30, 'salary': 55000}, {'name': 'Charlie', 'age': 35, 'salary': 60000}]"
   ]
  },
  {
   "cell_type": "code",
   "execution_count": 86,
   "id": "5f723ffb-9d7f-4e8b-a631-5f24a791a379",
   "metadata": {},
   "outputs": [
    {
     "data": {
      "text/plain": [
       "[{'name': 'Charlie', 'age': 35, 'salary': 60000}]"
      ]
     },
     "execution_count": 86,
     "metadata": {},
     "output_type": "execute_result"
    }
   ],
   "source": [
    "minimum = 35\n",
    "sorted_data = [ x for x in data if x['age'] >= minimum]\n",
    "sorted_data"
   ]
  },
  {
   "cell_type": "code",
   "execution_count": 87,
   "id": "309972e9-e2ac-4d04-88f9-ea23d1ae261d",
   "metadata": {},
   "outputs": [],
   "source": [
    "def avg_salary(data):\n",
    "    total = [x['salary'] for x in data]\n",
    "    return sum(total)/len(total) if total else 0"
   ]
  },
  {
   "cell_type": "code",
   "execution_count": 88,
   "id": "1d1efecd-b6e8-4fed-a978-723fd7f64294",
   "metadata": {},
   "outputs": [],
   "source": [
    "average = avg_salary(sorted_data)"
   ]
  },
  {
   "cell_type": "code",
   "execution_count": 89,
   "id": "d7c20940-4317-41d7-b066-697ea7be1dce",
   "metadata": {},
   "outputs": [
    {
     "data": {
      "text/plain": [
       "60000.0"
      ]
     },
     "execution_count": 89,
     "metadata": {},
     "output_type": "execute_result"
    }
   ],
   "source": [
    "average"
   ]
  },
  {
   "cell_type": "code",
   "execution_count": null,
   "id": "6f7724c9-b0e5-499b-9d54-af32a4e1b34f",
   "metadata": {},
   "outputs": [],
   "source": []
  }
 ],
 "metadata": {
  "kernelspec": {
   "display_name": "Python 3 (ipykernel)",
   "language": "python",
   "name": "python3"
  },
  "language_info": {
   "codemirror_mode": {
    "name": "ipython",
    "version": 3
   },
   "file_extension": ".py",
   "mimetype": "text/x-python",
   "name": "python",
   "nbconvert_exporter": "python",
   "pygments_lexer": "ipython3",
   "version": "3.9.21"
  }
 },
 "nbformat": 4,
 "nbformat_minor": 5
}
