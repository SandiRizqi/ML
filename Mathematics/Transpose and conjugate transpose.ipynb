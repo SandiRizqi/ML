{
 "cells": [
  {
   "cell_type": "code",
   "execution_count": 1,
   "id": "6e52e323-0ee7-4f76-a3d1-5262eb7abe8e",
   "metadata": {},
   "outputs": [],
   "source": [
    "import numpy as np"
   ]
  },
  {
   "cell_type": "code",
   "execution_count": 2,
   "id": "9ac180a3-8c21-421f-95a2-3b190462ed21",
   "metadata": {},
   "outputs": [],
   "source": [
    "A = np.array([[1. + 3.j, 2. - 4.j, 3.],\n",
    "              [4., 5. + 1.j, 6. - 1.j],\n",
    "              [7. - 2.j, 8. + 4.j, 9. - 1.j]])"
   ]
  },
  {
   "cell_type": "code",
   "execution_count": 3,
   "id": "6f62edba-ac62-4dbb-a998-287013ee7b36",
   "metadata": {},
   "outputs": [
    {
     "data": {
      "text/plain": [
       "(3, 3)"
      ]
     },
     "execution_count": 3,
     "metadata": {},
     "output_type": "execute_result"
    }
   ],
   "source": [
    "A.shape"
   ]
  },
  {
   "cell_type": "code",
   "execution_count": 5,
   "id": "7d460da5-0922-486c-820f-609ca8e09e4a",
   "metadata": {},
   "outputs": [
    {
     "name": "stdout",
     "output_type": "stream",
     "text": [
      "A = \n",
      " [[1.+3.j 2.-4.j 3.+0.j]\n",
      " [4.+0.j 5.+1.j 6.-1.j]\n",
      " [7.-2.j 8.+4.j 9.-1.j]]\n",
      "A transpose = \n",
      " [[1.+3.j 4.+0.j 7.-2.j]\n",
      " [2.-4.j 5.+1.j 8.+4.j]\n",
      " [3.+0.j 6.-1.j 9.-1.j]]\n",
      "A conj. transpose = \n",
      " [[1.-3.j 4.-0.j 7.+2.j]\n",
      " [2.+4.j 5.-1.j 8.-4.j]\n",
      " [3.-0.j 6.+1.j 9.+1.j]]\n"
     ]
    }
   ],
   "source": [
    "print('A = \\n', A)\n",
    "print('A transpose = \\n', A.T)\n",
    "print('A conj. transpose = \\n', A.T.conj())"
   ]
  },
  {
   "cell_type": "code",
   "execution_count": null,
   "id": "a6122d6d-2735-4b88-a06d-dd2e716a9f72",
   "metadata": {},
   "outputs": [],
   "source": []
  }
 ],
 "metadata": {
  "kernelspec": {
   "display_name": "Python 3 (ipykernel)",
   "language": "python",
   "name": "python3"
  },
  "language_info": {
   "codemirror_mode": {
    "name": "ipython",
    "version": 3
   },
   "file_extension": ".py",
   "mimetype": "text/x-python",
   "name": "python",
   "nbconvert_exporter": "python",
   "pygments_lexer": "ipython3",
   "version": "3.9.21"
  }
 },
 "nbformat": 4,
 "nbformat_minor": 5
}
